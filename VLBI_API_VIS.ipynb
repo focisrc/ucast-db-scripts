{
 "cells": [
  {
   "cell_type": "code",
   "execution_count": 1,
   "id": "b4d73606-243d-4589-88d2-2d1736347b18",
   "metadata": {},
   "outputs": [],
   "source": [
    "import pandas as pd, numpy as np, matplotlib.pyplot as plt\n"
   ]
  },
  {
   "cell_type": "code",
   "execution_count": 67,
   "id": "46acca97-54d6-4242-a793-1189ffaaa5e5",
   "metadata": {},
   "outputs": [],
   "source": [
    "\n",
    "\n",
    "# curl -c cookies.txt -X POST -u 'Phani Datta Velicheti' \\ \n",
    "#     'https://vlbimon1.science.ru.nl/session' \n",
    "# Enter host password for user 'Phani Datta Velicheti': \n",
    "# Velicheti\n",
    "\n",
    "#curl -b cookies.txt -G -d 'observatory=KP' -d 'field=weather_tau225' -d 'startTime=1514797820' -d 'endTime=1634634620' 'https://vlbimon1.science.ru.nl/data/historydownload' > KP_2018_2020_tau225.txt\n",
    "\n",
    "\n",
    "\n",
    "######### OR ############\n",
    "# curl -u 'Phani Datta Velicheti' -G -d 'observatory=KP' -d 'field=weather_tau225' -d 'startTime=1514797820' -d 'endTime=1634634620' 'https://vlbimon1.science.ru.nl/data/historydownload' > KP_2018_2020_tau225.txt\n",
    "# ON PROMPT\n",
    "# password: Velicheti"
   ]
  },
  {
   "cell_type": "code",
   "execution_count": 65,
   "id": "31bbd6d0-a720-4e94-b2e0-f4e7f9d15146",
   "metadata": {},
   "outputs": [],
   "source": []
  },
  {
   "cell_type": "code",
   "execution_count": 68,
   "id": "77a6158c-1fc5-4d40-8cbb-f4bfa9b2d4ba",
   "metadata": {},
   "outputs": [
    {
     "data": {
      "text/html": [
       "<div>\n",
       "<style scoped>\n",
       "    .dataframe tbody tr th:only-of-type {\n",
       "        vertical-align: middle;\n",
       "    }\n",
       "\n",
       "    .dataframe tbody tr th {\n",
       "        vertical-align: top;\n",
       "    }\n",
       "\n",
       "    .dataframe thead th {\n",
       "        text-align: right;\n",
       "    }\n",
       "</style>\n",
       "<table border=\"1\" class=\"dataframe\">\n",
       "  <thead>\n",
       "    <tr style=\"text-align: right;\">\n",
       "      <th></th>\n",
       "      <th>time</th>\n",
       "      <th>weather_tau225</th>\n",
       "    </tr>\n",
       "  </thead>\n",
       "  <tbody>\n",
       "    <tr>\n",
       "      <th>0</th>\n",
       "      <td>1583361790</td>\n",
       "      <td>0.261495</td>\n",
       "    </tr>\n",
       "    <tr>\n",
       "      <th>1</th>\n",
       "      <td>1583361800</td>\n",
       "      <td>0.261495</td>\n",
       "    </tr>\n",
       "    <tr>\n",
       "      <th>2</th>\n",
       "      <td>1583361810</td>\n",
       "      <td>0.261495</td>\n",
       "    </tr>\n",
       "    <tr>\n",
       "      <th>3</th>\n",
       "      <td>1583361820</td>\n",
       "      <td>0.261495</td>\n",
       "    </tr>\n",
       "    <tr>\n",
       "      <th>4</th>\n",
       "      <td>1583361830</td>\n",
       "      <td>0.261495</td>\n",
       "    </tr>\n",
       "    <tr>\n",
       "      <th>...</th>\n",
       "      <td>...</td>\n",
       "      <td>...</td>\n",
       "    </tr>\n",
       "    <tr>\n",
       "      <th>1524515</th>\n",
       "      <td>1634633609</td>\n",
       "      <td>0.399271</td>\n",
       "    </tr>\n",
       "    <tr>\n",
       "      <th>1524516</th>\n",
       "      <td>1634633833</td>\n",
       "      <td>0.121738</td>\n",
       "    </tr>\n",
       "    <tr>\n",
       "      <th>1524517</th>\n",
       "      <td>1634634061</td>\n",
       "      <td>0.401258</td>\n",
       "    </tr>\n",
       "    <tr>\n",
       "      <th>1524518</th>\n",
       "      <td>1634634285</td>\n",
       "      <td>0.293997</td>\n",
       "    </tr>\n",
       "    <tr>\n",
       "      <th>1524519</th>\n",
       "      <td>1634634515</td>\n",
       "      <td>0.154493</td>\n",
       "    </tr>\n",
       "  </tbody>\n",
       "</table>\n",
       "<p>1524520 rows × 2 columns</p>\n",
       "</div>"
      ],
      "text/plain": [
       "               time  weather_tau225\n",
       "0        1583361790        0.261495\n",
       "1        1583361800        0.261495\n",
       "2        1583361810        0.261495\n",
       "3        1583361820        0.261495\n",
       "4        1583361830        0.261495\n",
       "...             ...             ...\n",
       "1524515  1634633609        0.399271\n",
       "1524516  1634633833        0.121738\n",
       "1524517  1634634061        0.401258\n",
       "1524518  1634634285        0.293997\n",
       "1524519  1634634515        0.154493\n",
       "\n",
       "[1524520 rows x 2 columns]"
      ]
     },
     "execution_count": 68,
     "metadata": {},
     "output_type": "execute_result"
    }
   ],
   "source": [
    "df=pd.read_csv('KP_2018_2020_tau225.txt',skiprows=11, sep=\" \")\n",
    "first_n_column  = df.iloc[: , :2]\n",
    "first_n_column.columns=\"time {}\".format(df.columns[2]).split()\n",
    "first_n_column.set_index('time')\n",
    "df = first_n_column\n",
    "df"
   ]
  },
  {
   "cell_type": "code",
   "execution_count": 69,
   "id": "ed772ed6-374f-489f-b3c2-f1a4271ad56d",
   "metadata": {},
   "outputs": [
    {
     "data": {
      "image/png": "[encoded data removed]",
      "text/plain": [
       "<Figure size 432x288 with 1 Axes>"
      ]
     },
     "metadata": {
      "needs_background": "light"
     },
     "output_type": "display_data"
    }
   ],
   "source": [
    "df['time'] = pd.to_datetime(df['time'],unit='s')\n",
    "fig =plt.figure()\n",
    "plt.plot(df.iloc[:, 0],df.iloc[:, 1])\n",
    "fig.autofmt_xdate()\n",
    "plt.xlabel(\"Date\")\n",
    "plt.ylabel(\"tau225\")\n",
    "plt.show()"
   ]
  },
  {
   "cell_type": "code",
   "execution_count": 41,
   "id": "31e105e4-cfd8-49fc-913b-b14adcf8573c",
   "metadata": {},
   "outputs": [],
   "source": []
  },
  {
   "cell_type": "code",
   "execution_count": 44,
   "id": "3797313e-c27a-43c7-a2f8-82ada0ddee60",
   "metadata": {},
   "outputs": [],
   "source": []
  },
  {
   "cell_type": "code",
   "execution_count": 45,
   "id": "9b4691d8-9bab-426e-81a7-a06879957f5b",
   "metadata": {},
   "outputs": [
    {
     "data": {
      "text/html": [
       "<div>\n",
       "<style scoped>\n",
       "    .dataframe tbody tr th:only-of-type {\n",
       "        vertical-align: middle;\n",
       "    }\n",
       "\n",
       "    .dataframe tbody tr th {\n",
       "        vertical-align: top;\n",
       "    }\n",
       "\n",
       "    .dataframe thead th {\n",
       "        text-align: right;\n",
       "    }\n",
       "</style>\n",
       "<table border=\"1\" class=\"dataframe\">\n",
       "  <thead>\n",
       "    <tr style=\"text-align: right;\">\n",
       "      <th></th>\n",
       "      <th>time</th>\n",
       "      <th>weather_temperature</th>\n",
       "    </tr>\n",
       "  </thead>\n",
       "  <tbody>\n",
       "    <tr>\n",
       "      <th>0</th>\n",
       "      <td>1583361790</td>\n",
       "      <td>288.080000</td>\n",
       "    </tr>\n",
       "    <tr>\n",
       "      <th>1</th>\n",
       "      <td>1583361800</td>\n",
       "      <td>288.110007</td>\n",
       "    </tr>\n",
       "    <tr>\n",
       "      <th>2</th>\n",
       "      <td>1583361810</td>\n",
       "      <td>288.110007</td>\n",
       "    </tr>\n",
       "    <tr>\n",
       "      <th>3</th>\n",
       "      <td>1583361820</td>\n",
       "      <td>288.110007</td>\n",
       "    </tr>\n",
       "    <tr>\n",
       "      <th>4</th>\n",
       "      <td>1583361830</td>\n",
       "      <td>288.160002</td>\n",
       "    </tr>\n",
       "    <tr>\n",
       "      <th>...</th>\n",
       "      <td>...</td>\n",
       "      <td>...</td>\n",
       "    </tr>\n",
       "    <tr>\n",
       "      <th>1522782</th>\n",
       "      <td>1634250685</td>\n",
       "      <td>287.839996</td>\n",
       "    </tr>\n",
       "    <tr>\n",
       "      <th>1522783</th>\n",
       "      <td>1634250694</td>\n",
       "      <td>287.839996</td>\n",
       "    </tr>\n",
       "    <tr>\n",
       "      <th>1522784</th>\n",
       "      <td>1634250707</td>\n",
       "      <td>287.839996</td>\n",
       "    </tr>\n",
       "    <tr>\n",
       "      <th>1522785</th>\n",
       "      <td>1634251240</td>\n",
       "      <td>287.839996</td>\n",
       "    </tr>\n",
       "    <tr>\n",
       "      <th>1522786</th>\n",
       "      <td>1634251515</td>\n",
       "      <td>287.839996</td>\n",
       "    </tr>\n",
       "  </tbody>\n",
       "</table>\n",
       "<p>1522787 rows × 2 columns</p>\n",
       "</div>"
      ],
      "text/plain": [
       "               time  weather_temperature\n",
       "0        1583361790           288.080000\n",
       "1        1583361800           288.110007\n",
       "2        1583361810           288.110007\n",
       "3        1583361820           288.110007\n",
       "4        1583361830           288.160002\n",
       "...             ...                  ...\n",
       "1522782  1634250685           287.839996\n",
       "1522783  1634250694           287.839996\n",
       "1522784  1634250707           287.839996\n",
       "1522785  1634251240           287.839996\n",
       "1522786  1634251515           287.839996\n",
       "\n",
       "[1522787 rows x 2 columns]"
      ]
     },
     "execution_count": 45,
     "metadata": {},
     "output_type": "execute_result"
    }
   ],
   "source": [
    "df"
   ]
  },
  {
   "cell_type": "code",
   "execution_count": 47,
   "id": "f18aaeba-b060-4ebe-9e62-c0373ad3d634",
   "metadata": {},
   "outputs": [],
   "source": []
  },
  {
   "cell_type": "code",
   "execution_count": 58,
   "id": "2e468f8c-519d-426a-93d9-15aa2a250cda",
   "metadata": {},
   "outputs": [
    {
     "data": {
      "image/png": "[encoded data removed]",
      "text/plain": [
       "<Figure size 432x288 with 1 Axes>"
      ]
     },
     "metadata": {
      "needs_background": "light"
     },
     "output_type": "display_data"
    }
   ],
   "source": []
  }
 ],
 "metadata": {
  "kernelspec": {
   "display_name": "Python 3",
   "language": "python",
   "name": "python3"
  },
  "language_info": {
   "codemirror_mode": {
    "name": "ipython",
    "version": 3
   },
   "file_extension": ".py",
   "mimetype": "text/x-python",
   "name": "python",
   "nbconvert_exporter": "python",
   "pygments_lexer": "ipython3",
   "version": "3.7.10"
  }
 },
 "nbformat": 4,
 "nbformat_minor": 5
}
