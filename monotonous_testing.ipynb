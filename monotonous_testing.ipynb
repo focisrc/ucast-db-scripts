{
 "cells": [
  {
   "cell_type": "code",
   "execution_count": 20,
   "id": "12437143-792d-4887-b91b-a16dd7d0a00d",
   "metadata": {},
   "outputs": [
    {
     "data": {
      "text/plain": [
       "[<matplotlib.lines.Line2D at 0x7fb95948e280>]"
      ]
     },
     "execution_count": 20,
     "metadata": {},
     "output_type": "execute_result"
    },
    {
     "data": {
      "image/png": "[encoded data removed]",
      "text/plain": [
       "<Figure size 432x288 with 1 Axes>"
      ]
     },
     "metadata": {
      "needs_background": "light"
     },
     "output_type": "display_data"
    }
   ],
   "source": [
    "import math\n",
    "import numpy as np, pandas as pd, matplotlib.pyplot as plt\n",
    "from itertools import groupby\n",
    "\n",
    "def day_stats(tau,df):\n",
    "    # Custom function to solve this sample problem\n",
    "    # Threshold : 5\n",
    "    # input: [0,1,3,4,5,5.1,5.1,0,3,9] \n",
    "    # output: [5,2]\n",
    "    # Process: Gets all the lengths of consecutive numbers less than threshold\n",
    "    # We need this for the Tau vs time p\n",
    "    # Returns the mean, standard deviation and length of observing period to account for discrepancies in number of observations\n",
    "    c = df['tau'].le(tau)\n",
    "    lengths=[]\n",
    "    for k, g in groupby(c.values):\n",
    "            g = list(g)\n",
    "            if k==1:\n",
    "                lengths.append(len(g))\n",
    "    return lengths\n",
    "\n",
    "df2 = pd.DataFrame(columns=[\"x\",\"tau\"])\n",
    "x = np.arange(0, 20*math.pi, math.pi/100)\n",
    "df2[\"tau\"] = np.sin(x) # using np.sin\n",
    "\n",
    "# Setting threshold values\n",
    "sins=np.arange(-1,1,0.01)\n",
    "sin_stats=[]\n",
    "\n",
    "for sin in sins:\n",
    "    sin_stats.append(day_stats(sin,df2))\n",
    "    \n",
    "totals=[np.mean(sin) for sin in sin_stats ]\n",
    "plt.plot(sins,totals)\n",
    "\n"
   ]
  },
  {
   "cell_type": "code",
   "execution_count": 21,
   "id": "548d8246-f967-4128-90f0-00067ed2b45d",
   "metadata": {},
   "outputs": [],
   "source": [
    "def strictly_increasing(L):\n",
    "    return all(x<y for x, y in zip(L, L[1:]))\n",
    "\n",
    "def strictly_decreasing(L):\n",
    "    return all(x>y for x, y in zip(L, L[1:]))\n",
    "\n",
    "def non_increasing(L):\n",
    "    return all(x>=y for x, y in zip(L, L[1:]))\n",
    "\n",
    "def non_decreasing(L):\n",
    "    return all(x<=y for x, y in zip(L, L[1:]))\n",
    "\n",
    "def monotonic(L):\n",
    "    return non_increasing(L) or non_decreasing(L)\n"
   ]
  },
  {
   "cell_type": "code",
   "execution_count": 22,
   "id": "cd0cbdc0-1b4b-4c96-a787-e293ba6ca122",
   "metadata": {},
   "outputs": [
    {
     "name": "stdout",
     "output_type": "stream",
     "text": [
      "True\n",
      "False [99.0, 99.0, 91.27272727272727, 91.81818181818181] [-2.0000000e-02 -1.0000000e-02  8.8817842e-16]\n",
      "True\n"
     ]
    }
   ],
   "source": [
    "print(monotonic(totals[1:99]))\n",
    "print(monotonic(totals[98:102]), totals[98:102], sins[98:101])\n",
    "print(monotonic(totals[101:]))\n",
    "#8.8817842e-16 might cause the floating point error resulting in non monotonous begaviour.\n",
    "# This might repeat several times during the course of an opacity curve ( all the min and maximas may cause this floating point error)"
   ]
  },
  {
   "cell_type": "code",
   "execution_count": 6,
   "id": "16b4eab1-131c-4c6a-8108-0b1c46e4a570",
   "metadata": {},
   "outputs": [
    {
     "data": {
      "text/plain": [
       "[<matplotlib.lines.Line2D at 0x7fb9593a0940>]"
      ]
     },
     "execution_count": 6,
     "metadata": {},
     "output_type": "execute_result"
    },
    {
     "data": {
      "image/png": "[encoded data removed]",
      "text/plain": [
       "<Figure size 432x288 with 1 Axes>"
      ]
     },
     "metadata": {
      "needs_background": "light"
     },
     "output_type": "display_data"
    }
   ],
   "source": [
    "x_vals=[]\n",
    "y_vals=[]\n",
    "for sin,total in zip(sins,totals):\n",
    "    if sin > -0.01:\n",
    "        x_vals.append(sin)\n",
    "        y_vals.append(total)\n",
    "plt.plot(x_vals,y_vals)"
   ]
  },
  {
   "cell_type": "code",
   "execution_count": null,
   "id": "7c4581b6-4715-4f23-b46f-c4f10fd3bb19",
   "metadata": {},
   "outputs": [],
   "source": []
  }
 ],
 "metadata": {
  "kernelspec": {
   "display_name": "Python 3 (ipykernel)",
   "language": "python",
   "name": "python3"
  },
  "language_info": {
   "codemirror_mode": {
    "name": "ipython",
    "version": 3
   },
   "file_extension": ".py",
   "mimetype": "text/x-python",
   "name": "python",
   "nbconvert_exporter": "python",
   "pygments_lexer": "ipython3",
   "version": "3.9.7"
  }
 },
 "nbformat": 4,
 "nbformat_minor": 5
}
